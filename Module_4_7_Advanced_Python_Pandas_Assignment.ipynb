{
  "nbformat": 4,
  "nbformat_minor": 0,
  "metadata": {
    "colab": {
      "name": "Module_4.7_Advanced_Python_Pandas_Assignment.ipynb",
      "version": "0.3.2",
      "provenance": [],
      "collapsed_sections": [],
      "toc_visible": true
    },
    "language_info": {
      "codemirror_mode": {
        "name": "ipython",
        "version": 3
      },
      "file_extension": ".py",
      "mimetype": "text/x-python",
      "name": "python",
      "nbconvert_exporter": "python",
      "pygments_lexer": "ipython3",
      "version": "3.6.0"
    },
    "kernelspec": {
      "display_name": "Python 3",
      "language": "python",
      "name": "python3"
    }
  },
  "cells": [
    {
      "cell_type": "markdown",
      "metadata": {
        "id": "1MEgS7S-ffR1",
        "colab_type": "text"
      },
      "source": [
        "\n",
        "This assignment requires more individual learning then the last one did - you are encouraged to check out the [pandas documentation](http://pandas.pydata.org/pandas-docs/stable/) to find functions or methods you might not have used yet, or ask questions on [Stack Overflow](http://stackoverflow.com/) and tag them as pandas and python related. "
      ]
    },
    {
      "cell_type": "markdown",
      "metadata": {
        "id": "1xzeJQMFADBG",
        "colab_type": "text"
      },
      "source": [
        "Upload the file into google colab by using the \"Files\" option in the left"
      ]
    },
    {
      "cell_type": "markdown",
      "metadata": {
        "id": "x_kYqV0JffR2",
        "colab_type": "text"
      },
      "source": [
        "### Question 1 (20%)\n",
        "Load the energy data from the file `Energy Indicators.xls`, which is a list of indicators of [energy supply and renewable electricity production](Energy%20Indicators.xls) from the [United Nations](http://unstats.un.org/unsd/environment/excel_file_tables/2013/Energy%20Indicators.xls) for the year 2013, and should be put into a DataFrame with the variable name of **energy**.\n",
        "\n",
        "Keep in mind that this is an Excel file, and not a comma separated values file. Also, make sure to exclude the footer and header information from the datafile. The first two columns are unneccessary, so you should get rid of them, and you should change the column labels so that the columns are:\n",
        "\n",
        "`['Country', 'Energy Supply', 'Energy Supply per Capita', '% Renewable']`\n",
        "\n"
      ]
    },
    {
      "cell_type": "code",
      "metadata": {
        "id": "3Ql0vxlzPeBQ",
        "colab_type": "code",
        "colab": {}
      },
      "source": [
        "import pandas as pd\n",
        "import numpy as np\n",
        "energy=pd.read_excel('Energy+Indicators.xls')\n",
        "energy=energy[17:243]\n",
        "energy=energy.drop(energy.columns[[0, 1]], axis=1)"
      ],
      "execution_count": 0,
      "outputs": []
    },
    {
      "cell_type": "code",
      "metadata": {
        "id": "KrcbUIAsLvFf",
        "colab_type": "code",
        "colab": {}
      },
      "source": [
        "energy.rename(columns={'Unnamed: 2': 'Country','Unnamed: 3':'Energy Supply','Unnamed: 4':'Energy Supply per Capita','Unnamed: 5':'% Renewable'}, inplace=True)\n",
        "energy.replace('...', np.nan,inplace = True)"
      ],
      "execution_count": 0,
      "outputs": []
    },
    {
      "cell_type": "code",
      "metadata": {
        "id": "8sLUohEeOQMc",
        "colab_type": "code",
        "colab": {}
      },
      "source": [
        "energy=energy.dropna()"
      ],
      "execution_count": 0,
      "outputs": []
    },
    {
      "cell_type": "code",
      "metadata": {
        "id": "3A04ZY-gLZwu",
        "colab_type": "code",
        "colab": {}
      },
      "source": [
        "energy['Energy Supply'] =energy['Energy Supply'] * 1000000\n",
        "energy['Country']= energy['Country'].str.replace(r\" \\(.*\\)\",\"\")\n",
        "energy"
      ],
      "execution_count": 0,
      "outputs": []
    },
    {
      "cell_type": "code",
      "metadata": {
        "id": "fR51_5jQL8ZY",
        "colab_type": "code",
        "colab": {}
      },
      "source": [
        "energy['Country']= energy['Country'].str.replace(\"[0-9()]+$\", \"\")\n",
        "energy"
      ],
      "execution_count": 0,
      "outputs": []
    },
    {
      "cell_type": "code",
      "metadata": {
        "id": "qvrsf1szLaWo",
        "colab_type": "code",
        "colab": {}
      },
      "source": [
        "energy = energy.replace (\"Republic of Korea\", \"South Korea\")\n",
        "energy = energy.replace(\"United States of America\", \"United States\")\n",
        "energy = energy.replace('United Kingdom of Great Britain and Northern Ireland' , 'United Kingdom')\n",
        "energy = energy.replace('China, Hong Kong Special Administrative Region', 'Hong Kong')"
      ],
      "execution_count": 0,
      "outputs": []
    },
    {
      "cell_type": "code",
      "metadata": {
        "id": "mRECVEKDeJ5v",
        "colab_type": "code",
        "colab": {}
      },
      "source": [
        "energy = energy.set_index('Country')"
      ],
      "execution_count": 0,
      "outputs": []
    },
    {
      "cell_type": "markdown",
      "metadata": {
        "id": "LiAEGYhJPBZw",
        "colab_type": "text"
      },
      "source": [
        "Convert `Energy Supply` to gigajoules (there are 1,000,000 gigajoules in a petajoule). For all countries which have missing data (e.g. data with \"...\") make sure this is reflected as `np.NaN` values.\n",
        "\n",
        "\n"
      ]
    },
    {
      "cell_type": "markdown",
      "metadata": {
        "id": "lBzCjxEn9lWq",
        "colab_type": "text"
      },
      "source": [
        "Rename the following list of countries (for use in later questions):\n",
        "\n",
        "```\"Republic of Korea\": \"South Korea\",\n",
        "\"United States of America\": \"United States\",\n",
        "\"United Kingdom of Great Britain and Northern Ireland\": \"United Kingdom\",\n",
        "\"China, Hong Kong Special Administrative Region\": \"Hong Kong\"```\n",
        "\n",
        "There are also several countries with numbers and/or parenthesis in their name. Be sure to remove these, \n",
        "\n",
        "e.g. \n",
        "\n",
        "`'Bolivia (Plurinational State of)'` should be `'Bolivia'`, \n",
        "\n",
        "`'Switzerland17'` should be `'Switzerland'`.\n",
        "\n",
        "<br>\n"
      ]
    },
    {
      "cell_type": "code",
      "metadata": {
        "id": "gqVZjcB3foIJ",
        "colab_type": "code",
        "colab": {}
      },
      "source": [
        "GDP = pd.read_csv('world_bank.csv', skiprows=4)\n",
        "GDP.replace({\"Korea, Rep.\": \"South Korea\", \n",
        "                \"Iran, Islamic Rep.\": \"Iran\",\n",
        "                \"Hong Kong SAR, China\": \"Hong Kong\"}, inplace=True)\n",
        "GDP.rename(columns={'Country Name': 'Country'}, inplace=True)\n",
        "GDP['Country'] = GDP['Country'].str.replace(r\" \\(.*\\)\",\"\")\n",
        "GDP"
      ],
      "execution_count": 0,
      "outputs": []
    },
    {
      "cell_type": "code",
      "metadata": {
        "id": "2mgUMz5NevGP",
        "colab_type": "code",
        "colab": {}
      },
      "source": [
        "GDP=GDP.set_index('Country')"
      ],
      "execution_count": 0,
      "outputs": []
    },
    {
      "cell_type": "code",
      "metadata": {
        "id": "F3eEBwa2d4YA",
        "colab_type": "code",
        "colab": {
          "base_uri": "https://localhost:8080/",
          "height": 548
        },
        "outputId": "d36756ca-6ca6-4283-99ae-f8d922424e19"
      },
      "source": [
        "ScimEn = pd.read_excel('scimagojr.xlsx')\n",
        "ScimEn=pd.DataFrame(ScimEn)\n",
        "ScimEn=ScimEn[0:15]\n",
        "ScimEn\n"
      ],
      "execution_count": 108,
      "outputs": [
        {
          "output_type": "execute_result",
          "data": {
            "text/html": [
              "<div>\n",
              "<style scoped>\n",
              "    .dataframe tbody tr th:only-of-type {\n",
              "        vertical-align: middle;\n",
              "    }\n",
              "\n",
              "    .dataframe tbody tr th {\n",
              "        vertical-align: top;\n",
              "    }\n",
              "\n",
              "    .dataframe thead th {\n",
              "        text-align: right;\n",
              "    }\n",
              "</style>\n",
              "<table border=\"1\" class=\"dataframe\">\n",
              "  <thead>\n",
              "    <tr style=\"text-align: right;\">\n",
              "      <th></th>\n",
              "      <th>Rank</th>\n",
              "      <th>Country</th>\n",
              "      <th>Documents</th>\n",
              "      <th>Citable documents</th>\n",
              "      <th>Citations</th>\n",
              "      <th>Self-citations</th>\n",
              "      <th>Citations per document</th>\n",
              "      <th>H index</th>\n",
              "    </tr>\n",
              "  </thead>\n",
              "  <tbody>\n",
              "    <tr>\n",
              "      <th>0</th>\n",
              "      <td>1</td>\n",
              "      <td>China</td>\n",
              "      <td>193483</td>\n",
              "      <td>192270</td>\n",
              "      <td>1355524</td>\n",
              "      <td>927458</td>\n",
              "      <td>7.01</td>\n",
              "      <td>196</td>\n",
              "    </tr>\n",
              "    <tr>\n",
              "      <th>1</th>\n",
              "      <td>2</td>\n",
              "      <td>United States</td>\n",
              "      <td>143130</td>\n",
              "      <td>139924</td>\n",
              "      <td>1551044</td>\n",
              "      <td>530169</td>\n",
              "      <td>10.84</td>\n",
              "      <td>301</td>\n",
              "    </tr>\n",
              "    <tr>\n",
              "      <th>2</th>\n",
              "      <td>3</td>\n",
              "      <td>Japan</td>\n",
              "      <td>41188</td>\n",
              "      <td>40775</td>\n",
              "      <td>357829</td>\n",
              "      <td>93375</td>\n",
              "      <td>8.69</td>\n",
              "      <td>166</td>\n",
              "    </tr>\n",
              "    <tr>\n",
              "      <th>3</th>\n",
              "      <td>4</td>\n",
              "      <td>United Kingdom</td>\n",
              "      <td>33293</td>\n",
              "      <td>32300</td>\n",
              "      <td>405816</td>\n",
              "      <td>77019</td>\n",
              "      <td>12.19</td>\n",
              "      <td>185</td>\n",
              "    </tr>\n",
              "    <tr>\n",
              "      <th>4</th>\n",
              "      <td>5</td>\n",
              "      <td>India</td>\n",
              "      <td>32064</td>\n",
              "      <td>31167</td>\n",
              "      <td>268746</td>\n",
              "      <td>87658</td>\n",
              "      <td>8.38</td>\n",
              "      <td>153</td>\n",
              "    </tr>\n",
              "    <tr>\n",
              "      <th>5</th>\n",
              "      <td>6</td>\n",
              "      <td>Germany</td>\n",
              "      <td>27966</td>\n",
              "      <td>27370</td>\n",
              "      <td>278237</td>\n",
              "      <td>59495</td>\n",
              "      <td>9.95</td>\n",
              "      <td>166</td>\n",
              "    </tr>\n",
              "    <tr>\n",
              "      <th>6</th>\n",
              "      <td>7</td>\n",
              "      <td>Russian Federation</td>\n",
              "      <td>26435</td>\n",
              "      <td>26196</td>\n",
              "      <td>68424</td>\n",
              "      <td>29544</td>\n",
              "      <td>2.59</td>\n",
              "      <td>75</td>\n",
              "    </tr>\n",
              "    <tr>\n",
              "      <th>7</th>\n",
              "      <td>8</td>\n",
              "      <td>Canada</td>\n",
              "      <td>26148</td>\n",
              "      <td>25571</td>\n",
              "      <td>395467</td>\n",
              "      <td>74112</td>\n",
              "      <td>15.12</td>\n",
              "      <td>193</td>\n",
              "    </tr>\n",
              "    <tr>\n",
              "      <th>8</th>\n",
              "      <td>9</td>\n",
              "      <td>France</td>\n",
              "      <td>19696</td>\n",
              "      <td>19214</td>\n",
              "      <td>238639</td>\n",
              "      <td>48462</td>\n",
              "      <td>12.12</td>\n",
              "      <td>152</td>\n",
              "    </tr>\n",
              "    <tr>\n",
              "      <th>9</th>\n",
              "      <td>10</td>\n",
              "      <td>Italy</td>\n",
              "      <td>18773</td>\n",
              "      <td>17987</td>\n",
              "      <td>221652</td>\n",
              "      <td>54282</td>\n",
              "      <td>11.81</td>\n",
              "      <td>135</td>\n",
              "    </tr>\n",
              "    <tr>\n",
              "      <th>10</th>\n",
              "      <td>11</td>\n",
              "      <td>South Korea</td>\n",
              "      <td>18217</td>\n",
              "      <td>17994</td>\n",
              "      <td>208150</td>\n",
              "      <td>39811</td>\n",
              "      <td>11.43</td>\n",
              "      <td>132</td>\n",
              "    </tr>\n",
              "    <tr>\n",
              "      <th>11</th>\n",
              "      <td>12</td>\n",
              "      <td>Iran</td>\n",
              "      <td>15614</td>\n",
              "      <td>15334</td>\n",
              "      <td>160505</td>\n",
              "      <td>51493</td>\n",
              "      <td>10.28</td>\n",
              "      <td>108</td>\n",
              "    </tr>\n",
              "    <tr>\n",
              "      <th>12</th>\n",
              "      <td>13</td>\n",
              "      <td>Brazil</td>\n",
              "      <td>15332</td>\n",
              "      <td>15132</td>\n",
              "      <td>118483</td>\n",
              "      <td>28818</td>\n",
              "      <td>7.73</td>\n",
              "      <td>109</td>\n",
              "    </tr>\n",
              "    <tr>\n",
              "      <th>13</th>\n",
              "      <td>14</td>\n",
              "      <td>Australia</td>\n",
              "      <td>14907</td>\n",
              "      <td>14564</td>\n",
              "      <td>196567</td>\n",
              "      <td>34134</td>\n",
              "      <td>13.19</td>\n",
              "      <td>143</td>\n",
              "    </tr>\n",
              "    <tr>\n",
              "      <th>14</th>\n",
              "      <td>15</td>\n",
              "      <td>Spain</td>\n",
              "      <td>14204</td>\n",
              "      <td>13916</td>\n",
              "      <td>233955</td>\n",
              "      <td>42632</td>\n",
              "      <td>16.47</td>\n",
              "      <td>149</td>\n",
              "    </tr>\n",
              "  </tbody>\n",
              "</table>\n",
              "</div>"
            ],
            "text/plain": [
              "    Rank             Country  ...  Citations per document  H index\n",
              "0      1               China  ...                    7.01      196\n",
              "1      2       United States  ...                   10.84      301\n",
              "2      3               Japan  ...                    8.69      166\n",
              "3      4      United Kingdom  ...                   12.19      185\n",
              "4      5               India  ...                    8.38      153\n",
              "5      6             Germany  ...                    9.95      166\n",
              "6      7  Russian Federation  ...                    2.59       75\n",
              "7      8              Canada  ...                   15.12      193\n",
              "8      9              France  ...                   12.12      152\n",
              "9     10               Italy  ...                   11.81      135\n",
              "10    11         South Korea  ...                   11.43      132\n",
              "11    12                Iran  ...                   10.28      108\n",
              "12    13              Brazil  ...                    7.73      109\n",
              "13    14           Australia  ...                   13.19      143\n",
              "14    15               Spain  ...                   16.47      149\n",
              "\n",
              "[15 rows x 8 columns]"
            ]
          },
          "metadata": {
            "tags": []
          },
          "execution_count": 108
        }
      ]
    },
    {
      "cell_type": "markdown",
      "metadata": {
        "id": "dYleys2KPVLT",
        "colab_type": "text"
      },
      "source": [
        "Next, load the GDP data from the file `world_bank.csv`, which is a csv containing countries' GDP from 1960 to 2015 from [World Bank](http://data.worldbank.org/indicator/NY.GDP.MKTP.CD). Call this DataFrame **GDP**. \n",
        "\n",
        "Make sure to skip the header, and rename the following list of countries:\n",
        "\n",
        "```\"Korea, Rep.\": \"South Korea\", \n",
        "\"Iran, Islamic Rep.\": \"Iran\",\n",
        "\"Hong Kong SAR, China\": \"Hong Kong\"```\n",
        "\n",
        "\n",
        "\n",
        "Finally, load the [Sciamgo Journal and Country Rank data for Energy Engineering and Power Technology](http://www.scimagojr.com/countryrank.php?category=2102) from the file `scimagojr-3.xlsx`, which ranks countries based on their journal contributions in the aforementioned area. Call this DataFrame **ScimEn**.\n",
        "\n",
        "Join the three datasets: GDP, Energy, and ScimEn into a new dataset (using the intersection of country names). Use only the last 10 years (2006-2015) of GDP data and only the top 15 countries by Scimagojr 'Rank' (Rank 1 through 15). \n",
        "\n",
        "The index of this DataFrame should be the name of the country, and the columns should be ['Rank', 'Documents', 'Citable documents', 'Citations', 'Self-citations',\n",
        "       'Citations per document', 'H index', 'Energy Supply',\n",
        "       'Energy Supply per Capita', '% Renewable', '2006', '2007', '2008',\n",
        "       '2009', '2010', '2011', '2012', '2013', '2014', '2015'].\n",
        "\n",
        "*This function should return a DataFrame with 20 columns and 11 entries.*"
      ]
    },
    {
      "cell_type": "code",
      "metadata": {
        "id": "TmSITCSPgyez",
        "colab_type": "code",
        "colab": {}
      },
      "source": [
        "df = pd.merge(ScimEn,energy,how='outer',left_on='Country',right_on='Country')\n",
        "df\n",
        "\n"
      ],
      "execution_count": 0,
      "outputs": []
    },
    {
      "cell_type": "code",
      "metadata": {
        "id": "HVXPOY3uj7rd",
        "colab_type": "code",
        "colab": {}
      },
      "source": [
        "final_df = pd.merge(df,GDP,how='outer',left_on='Country',right_on='Country')\n",
        "final_df.set_index('Country',inplace=True)\n",
        "final_df"
      ],
      "execution_count": 0,
      "outputs": []
    },
    {
      "cell_type": "code",
      "metadata": {
        "id": "8OBTQebQkKkl",
        "colab_type": "code",
        "colab": {}
      },
      "source": [
        "columns_to_keep = ['Rank', 'Documents', 'Citable documents',\n",
        "        'Citations', 'Self-citations',\n",
        "        'Citations per document', 'H index',\n",
        "        'Energy Supply', 'Energy Supply per Capita',\n",
        "        '% Renewable', '2006', '2007', '2008',\n",
        "        '2009', '2010', '2011', '2012',\n",
        "        '2013', '2014', '2015']\n"
      ],
      "execution_count": 0,
      "outputs": []
    },
    {
      "cell_type": "code",
      "metadata": {
        "id": "RqZhWUL7kZhC",
        "colab_type": "code",
        "colab": {
          "base_uri": "https://localhost:8080/",
          "height": 684
        },
        "outputId": "50e1c728-5d88-49b4-dc51-15e6402c2c07"
      },
      "source": [
        "final_df= final_df[['Rank', 'Documents', 'Citable documents', 'Citations', 'Self-citations', 'Citations per document', 'H index', 'Energy Supply', 'Energy Supply per Capita', '% Renewable', '2006', '2007', '2008', '2009', '2010', '2011', '2012', '2013', '2014', '2015']]\n",
        "final_df\n",
        "final_df=final_df.dropna()\n",
        "final_df"
      ],
      "execution_count": 112,
      "outputs": [
        {
          "output_type": "execute_result",
          "data": {
            "text/html": [
              "<div>\n",
              "<style scoped>\n",
              "    .dataframe tbody tr th:only-of-type {\n",
              "        vertical-align: middle;\n",
              "    }\n",
              "\n",
              "    .dataframe tbody tr th {\n",
              "        vertical-align: top;\n",
              "    }\n",
              "\n",
              "    .dataframe thead th {\n",
              "        text-align: right;\n",
              "    }\n",
              "</style>\n",
              "<table border=\"1\" class=\"dataframe\">\n",
              "  <thead>\n",
              "    <tr style=\"text-align: right;\">\n",
              "      <th></th>\n",
              "      <th>Rank</th>\n",
              "      <th>Documents</th>\n",
              "      <th>Citable documents</th>\n",
              "      <th>Citations</th>\n",
              "      <th>Self-citations</th>\n",
              "      <th>Citations per document</th>\n",
              "      <th>H index</th>\n",
              "      <th>Energy Supply</th>\n",
              "      <th>Energy Supply per Capita</th>\n",
              "      <th>% Renewable</th>\n",
              "      <th>2006</th>\n",
              "      <th>2007</th>\n",
              "      <th>2008</th>\n",
              "      <th>2009</th>\n",
              "      <th>2010</th>\n",
              "      <th>2011</th>\n",
              "      <th>2012</th>\n",
              "      <th>2013</th>\n",
              "      <th>2014</th>\n",
              "      <th>2015</th>\n",
              "    </tr>\n",
              "    <tr>\n",
              "      <th>Country</th>\n",
              "      <th></th>\n",
              "      <th></th>\n",
              "      <th></th>\n",
              "      <th></th>\n",
              "      <th></th>\n",
              "      <th></th>\n",
              "      <th></th>\n",
              "      <th></th>\n",
              "      <th></th>\n",
              "      <th></th>\n",
              "      <th></th>\n",
              "      <th></th>\n",
              "      <th></th>\n",
              "      <th></th>\n",
              "      <th></th>\n",
              "      <th></th>\n",
              "      <th></th>\n",
              "      <th></th>\n",
              "      <th></th>\n",
              "      <th></th>\n",
              "    </tr>\n",
              "  </thead>\n",
              "  <tbody>\n",
              "    <tr>\n",
              "      <th>China</th>\n",
              "      <td>1.0</td>\n",
              "      <td>193483.0</td>\n",
              "      <td>192270.0</td>\n",
              "      <td>1355524.0</td>\n",
              "      <td>927458.0</td>\n",
              "      <td>7.01</td>\n",
              "      <td>196.0</td>\n",
              "      <td>1.271910e+11</td>\n",
              "      <td>93.0</td>\n",
              "      <td>19.754910</td>\n",
              "      <td>2.752132e+12</td>\n",
              "      <td>3.550342e+12</td>\n",
              "      <td>4.594307e+12</td>\n",
              "      <td>5.101702e+12</td>\n",
              "      <td>6.087165e+12</td>\n",
              "      <td>7.551500e+12</td>\n",
              "      <td>8.532231e+12</td>\n",
              "      <td>9.570406e+12</td>\n",
              "      <td>1.043853e+13</td>\n",
              "      <td>1.101554e+13</td>\n",
              "    </tr>\n",
              "    <tr>\n",
              "      <th>United States</th>\n",
              "      <td>2.0</td>\n",
              "      <td>143130.0</td>\n",
              "      <td>139924.0</td>\n",
              "      <td>1551044.0</td>\n",
              "      <td>530169.0</td>\n",
              "      <td>10.84</td>\n",
              "      <td>301.0</td>\n",
              "      <td>9.083800e+10</td>\n",
              "      <td>286.0</td>\n",
              "      <td>11.570980</td>\n",
              "      <td>1.381461e+13</td>\n",
              "      <td>1.445186e+13</td>\n",
              "      <td>1.471284e+13</td>\n",
              "      <td>1.444893e+13</td>\n",
              "      <td>1.499205e+13</td>\n",
              "      <td>1.554258e+13</td>\n",
              "      <td>1.619701e+13</td>\n",
              "      <td>1.678485e+13</td>\n",
              "      <td>1.752175e+13</td>\n",
              "      <td>1.821930e+13</td>\n",
              "    </tr>\n",
              "    <tr>\n",
              "      <th>Japan</th>\n",
              "      <td>3.0</td>\n",
              "      <td>41188.0</td>\n",
              "      <td>40775.0</td>\n",
              "      <td>357829.0</td>\n",
              "      <td>93375.0</td>\n",
              "      <td>8.69</td>\n",
              "      <td>166.0</td>\n",
              "      <td>1.898400e+10</td>\n",
              "      <td>149.0</td>\n",
              "      <td>10.232820</td>\n",
              "      <td>4.530377e+12</td>\n",
              "      <td>4.515265e+12</td>\n",
              "      <td>5.037908e+12</td>\n",
              "      <td>5.231383e+12</td>\n",
              "      <td>5.700098e+12</td>\n",
              "      <td>6.157460e+12</td>\n",
              "      <td>6.203213e+12</td>\n",
              "      <td>5.155717e+12</td>\n",
              "      <td>4.850414e+12</td>\n",
              "      <td>4.389476e+12</td>\n",
              "    </tr>\n",
              "    <tr>\n",
              "      <th>United Kingdom</th>\n",
              "      <td>4.0</td>\n",
              "      <td>33293.0</td>\n",
              "      <td>32300.0</td>\n",
              "      <td>405816.0</td>\n",
              "      <td>77019.0</td>\n",
              "      <td>12.19</td>\n",
              "      <td>185.0</td>\n",
              "      <td>7.920000e+09</td>\n",
              "      <td>124.0</td>\n",
              "      <td>10.600470</td>\n",
              "      <td>2.697152e+12</td>\n",
              "      <td>3.084118e+12</td>\n",
              "      <td>2.904037e+12</td>\n",
              "      <td>2.394786e+12</td>\n",
              "      <td>2.452900e+12</td>\n",
              "      <td>2.634896e+12</td>\n",
              "      <td>2.676605e+12</td>\n",
              "      <td>2.753565e+12</td>\n",
              "      <td>3.034729e+12</td>\n",
              "      <td>2.896421e+12</td>\n",
              "    </tr>\n",
              "    <tr>\n",
              "      <th>India</th>\n",
              "      <td>5.0</td>\n",
              "      <td>32064.0</td>\n",
              "      <td>31167.0</td>\n",
              "      <td>268746.0</td>\n",
              "      <td>87658.0</td>\n",
              "      <td>8.38</td>\n",
              "      <td>153.0</td>\n",
              "      <td>3.319500e+10</td>\n",
              "      <td>26.0</td>\n",
              "      <td>14.969080</td>\n",
              "      <td>9.402599e+11</td>\n",
              "      <td>1.216735e+12</td>\n",
              "      <td>1.198895e+12</td>\n",
              "      <td>1.341887e+12</td>\n",
              "      <td>1.675615e+12</td>\n",
              "      <td>1.823050e+12</td>\n",
              "      <td>1.827638e+12</td>\n",
              "      <td>1.856722e+12</td>\n",
              "      <td>2.039127e+12</td>\n",
              "      <td>2.103588e+12</td>\n",
              "    </tr>\n",
              "    <tr>\n",
              "      <th>Germany</th>\n",
              "      <td>6.0</td>\n",
              "      <td>27966.0</td>\n",
              "      <td>27370.0</td>\n",
              "      <td>278237.0</td>\n",
              "      <td>59495.0</td>\n",
              "      <td>9.95</td>\n",
              "      <td>166.0</td>\n",
              "      <td>1.326100e+10</td>\n",
              "      <td>165.0</td>\n",
              "      <td>17.901530</td>\n",
              "      <td>3.002446e+12</td>\n",
              "      <td>3.439953e+12</td>\n",
              "      <td>3.752366e+12</td>\n",
              "      <td>3.418005e+12</td>\n",
              "      <td>3.417095e+12</td>\n",
              "      <td>3.757698e+12</td>\n",
              "      <td>3.543984e+12</td>\n",
              "      <td>3.752514e+12</td>\n",
              "      <td>3.898727e+12</td>\n",
              "      <td>3.381389e+12</td>\n",
              "    </tr>\n",
              "    <tr>\n",
              "      <th>Russian Federation</th>\n",
              "      <td>7.0</td>\n",
              "      <td>26435.0</td>\n",
              "      <td>26196.0</td>\n",
              "      <td>68424.0</td>\n",
              "      <td>29544.0</td>\n",
              "      <td>2.59</td>\n",
              "      <td>75.0</td>\n",
              "      <td>3.070900e+10</td>\n",
              "      <td>214.0</td>\n",
              "      <td>17.288680</td>\n",
              "      <td>9.899305e+11</td>\n",
              "      <td>1.299706e+12</td>\n",
              "      <td>1.660846e+12</td>\n",
              "      <td>1.222644e+12</td>\n",
              "      <td>1.524917e+12</td>\n",
              "      <td>2.051662e+12</td>\n",
              "      <td>2.210257e+12</td>\n",
              "      <td>2.297128e+12</td>\n",
              "      <td>2.059984e+12</td>\n",
              "      <td>1.363594e+12</td>\n",
              "    </tr>\n",
              "    <tr>\n",
              "      <th>Canada</th>\n",
              "      <td>8.0</td>\n",
              "      <td>26148.0</td>\n",
              "      <td>25571.0</td>\n",
              "      <td>395467.0</td>\n",
              "      <td>74112.0</td>\n",
              "      <td>15.12</td>\n",
              "      <td>193.0</td>\n",
              "      <td>1.043100e+10</td>\n",
              "      <td>296.0</td>\n",
              "      <td>61.945430</td>\n",
              "      <td>1.315415e+12</td>\n",
              "      <td>1.464977e+12</td>\n",
              "      <td>1.549131e+12</td>\n",
              "      <td>1.371153e+12</td>\n",
              "      <td>1.613543e+12</td>\n",
              "      <td>1.789141e+12</td>\n",
              "      <td>1.823967e+12</td>\n",
              "      <td>1.842018e+12</td>\n",
              "      <td>1.801480e+12</td>\n",
              "      <td>1.552900e+12</td>\n",
              "    </tr>\n",
              "    <tr>\n",
              "      <th>France</th>\n",
              "      <td>9.0</td>\n",
              "      <td>19696.0</td>\n",
              "      <td>19214.0</td>\n",
              "      <td>238639.0</td>\n",
              "      <td>48462.0</td>\n",
              "      <td>12.12</td>\n",
              "      <td>152.0</td>\n",
              "      <td>1.059700e+10</td>\n",
              "      <td>166.0</td>\n",
              "      <td>17.020280</td>\n",
              "      <td>2.318594e+12</td>\n",
              "      <td>2.657213e+12</td>\n",
              "      <td>2.918383e+12</td>\n",
              "      <td>2.690222e+12</td>\n",
              "      <td>2.642610e+12</td>\n",
              "      <td>2.861408e+12</td>\n",
              "      <td>2.683825e+12</td>\n",
              "      <td>2.811078e+12</td>\n",
              "      <td>2.852166e+12</td>\n",
              "      <td>2.438208e+12</td>\n",
              "    </tr>\n",
              "    <tr>\n",
              "      <th>Italy</th>\n",
              "      <td>10.0</td>\n",
              "      <td>18773.0</td>\n",
              "      <td>17987.0</td>\n",
              "      <td>221652.0</td>\n",
              "      <td>54282.0</td>\n",
              "      <td>11.81</td>\n",
              "      <td>135.0</td>\n",
              "      <td>6.530000e+09</td>\n",
              "      <td>109.0</td>\n",
              "      <td>33.667230</td>\n",
              "      <td>1.942634e+12</td>\n",
              "      <td>2.203053e+12</td>\n",
              "      <td>2.390729e+12</td>\n",
              "      <td>2.185160e+12</td>\n",
              "      <td>2.125058e+12</td>\n",
              "      <td>2.276292e+12</td>\n",
              "      <td>2.072823e+12</td>\n",
              "      <td>2.130491e+12</td>\n",
              "      <td>2.151733e+12</td>\n",
              "      <td>1.832273e+12</td>\n",
              "    </tr>\n",
              "    <tr>\n",
              "      <th>South Korea</th>\n",
              "      <td>11.0</td>\n",
              "      <td>18217.0</td>\n",
              "      <td>17994.0</td>\n",
              "      <td>208150.0</td>\n",
              "      <td>39811.0</td>\n",
              "      <td>11.43</td>\n",
              "      <td>132.0</td>\n",
              "      <td>1.100700e+10</td>\n",
              "      <td>221.0</td>\n",
              "      <td>2.279353</td>\n",
              "      <td>1.011797e+12</td>\n",
              "      <td>1.122679e+12</td>\n",
              "      <td>1.002219e+12</td>\n",
              "      <td>9.019350e+11</td>\n",
              "      <td>1.094499e+12</td>\n",
              "      <td>1.202464e+12</td>\n",
              "      <td>1.222807e+12</td>\n",
              "      <td>1.305605e+12</td>\n",
              "      <td>1.411334e+12</td>\n",
              "      <td>1.382764e+12</td>\n",
              "    </tr>\n",
              "    <tr>\n",
              "      <th>Iran</th>\n",
              "      <td>12.0</td>\n",
              "      <td>15614.0</td>\n",
              "      <td>15334.0</td>\n",
              "      <td>160505.0</td>\n",
              "      <td>51493.0</td>\n",
              "      <td>10.28</td>\n",
              "      <td>108.0</td>\n",
              "      <td>9.172000e+09</td>\n",
              "      <td>119.0</td>\n",
              "      <td>5.707721</td>\n",
              "      <td>2.662989e+11</td>\n",
              "      <td>3.498816e+11</td>\n",
              "      <td>4.060709e+11</td>\n",
              "      <td>4.140591e+11</td>\n",
              "      <td>4.870696e+11</td>\n",
              "      <td>5.835004e+11</td>\n",
              "      <td>5.988534e+11</td>\n",
              "      <td>4.674149e+11</td>\n",
              "      <td>4.344746e+11</td>\n",
              "      <td>3.858745e+11</td>\n",
              "    </tr>\n",
              "    <tr>\n",
              "      <th>Brazil</th>\n",
              "      <td>13.0</td>\n",
              "      <td>15332.0</td>\n",
              "      <td>15132.0</td>\n",
              "      <td>118483.0</td>\n",
              "      <td>28818.0</td>\n",
              "      <td>7.73</td>\n",
              "      <td>109.0</td>\n",
              "      <td>1.214900e+10</td>\n",
              "      <td>59.0</td>\n",
              "      <td>69.648030</td>\n",
              "      <td>1.107640e+12</td>\n",
              "      <td>1.397084e+12</td>\n",
              "      <td>1.695825e+12</td>\n",
              "      <td>1.667020e+12</td>\n",
              "      <td>2.208872e+12</td>\n",
              "      <td>2.616202e+12</td>\n",
              "      <td>2.465189e+12</td>\n",
              "      <td>2.472806e+12</td>\n",
              "      <td>2.455994e+12</td>\n",
              "      <td>1.802214e+12</td>\n",
              "    </tr>\n",
              "    <tr>\n",
              "      <th>Australia</th>\n",
              "      <td>14.0</td>\n",
              "      <td>14907.0</td>\n",
              "      <td>14564.0</td>\n",
              "      <td>196567.0</td>\n",
              "      <td>34134.0</td>\n",
              "      <td>13.19</td>\n",
              "      <td>143.0</td>\n",
              "      <td>5.386000e+09</td>\n",
              "      <td>231.0</td>\n",
              "      <td>11.810810</td>\n",
              "      <td>7.460542e+11</td>\n",
              "      <td>8.530996e+11</td>\n",
              "      <td>1.053996e+12</td>\n",
              "      <td>9.278052e+11</td>\n",
              "      <td>1.146138e+12</td>\n",
              "      <td>1.396650e+12</td>\n",
              "      <td>1.546152e+12</td>\n",
              "      <td>1.576184e+12</td>\n",
              "      <td>1.467484e+12</td>\n",
              "      <td>1.351520e+12</td>\n",
              "    </tr>\n",
              "    <tr>\n",
              "      <th>Spain</th>\n",
              "      <td>15.0</td>\n",
              "      <td>14204.0</td>\n",
              "      <td>13916.0</td>\n",
              "      <td>233955.0</td>\n",
              "      <td>42632.0</td>\n",
              "      <td>16.47</td>\n",
              "      <td>149.0</td>\n",
              "      <td>4.923000e+09</td>\n",
              "      <td>106.0</td>\n",
              "      <td>37.968590</td>\n",
              "      <td>1.264551e+12</td>\n",
              "      <td>1.479342e+12</td>\n",
              "      <td>1.635015e+12</td>\n",
              "      <td>1.499100e+12</td>\n",
              "      <td>1.431617e+12</td>\n",
              "      <td>1.488067e+12</td>\n",
              "      <td>1.336019e+12</td>\n",
              "      <td>1.361854e+12</td>\n",
              "      <td>1.376911e+12</td>\n",
              "      <td>1.199084e+12</td>\n",
              "    </tr>\n",
              "  </tbody>\n",
              "</table>\n",
              "</div>"
            ],
            "text/plain": [
              "                    Rank  Documents  ...          2014          2015\n",
              "Country                              ...                            \n",
              "China                1.0   193483.0  ...  1.043853e+13  1.101554e+13\n",
              "United States        2.0   143130.0  ...  1.752175e+13  1.821930e+13\n",
              "Japan                3.0    41188.0  ...  4.850414e+12  4.389476e+12\n",
              "United Kingdom       4.0    33293.0  ...  3.034729e+12  2.896421e+12\n",
              "India                5.0    32064.0  ...  2.039127e+12  2.103588e+12\n",
              "Germany              6.0    27966.0  ...  3.898727e+12  3.381389e+12\n",
              "Russian Federation   7.0    26435.0  ...  2.059984e+12  1.363594e+12\n",
              "Canada               8.0    26148.0  ...  1.801480e+12  1.552900e+12\n",
              "France               9.0    19696.0  ...  2.852166e+12  2.438208e+12\n",
              "Italy               10.0    18773.0  ...  2.151733e+12  1.832273e+12\n",
              "South Korea         11.0    18217.0  ...  1.411334e+12  1.382764e+12\n",
              "Iran                12.0    15614.0  ...  4.344746e+11  3.858745e+11\n",
              "Brazil              13.0    15332.0  ...  2.455994e+12  1.802214e+12\n",
              "Australia           14.0    14907.0  ...  1.467484e+12  1.351520e+12\n",
              "Spain               15.0    14204.0  ...  1.376911e+12  1.199084e+12\n",
              "\n",
              "[15 rows x 20 columns]"
            ]
          },
          "metadata": {
            "tags": []
          },
          "execution_count": 112
        }
      ]
    },
    {
      "cell_type": "code",
      "metadata": {
        "umich_part_id": "009",
        "umich_partlist_id": "003",
        "id": "ePJwbYUBffR3",
        "colab_type": "code",
        "colab": {}
      },
      "source": [
        "def answer_one():\n",
        "    return \"ANSWER\""
      ],
      "execution_count": 0,
      "outputs": []
    },
    {
      "cell_type": "markdown",
      "metadata": {
        "id": "iueuSKF2ffR6",
        "colab_type": "text"
      },
      "source": [
        "### Question 2 (6.6%)\n",
        "The previous question joined three datasets then reduced this to just the top 15 entries. When you joined the datasets, but before you reduced this to the top 15 items, how many entries did you lose?\n",
        "\n",
        "*This function should return a single number.*"
      ]
    },
    {
      "cell_type": "code",
      "metadata": {
        "id": "TuixBXcHtrEd",
        "colab_type": "code",
        "colab": {
          "base_uri": "https://localhost:8080/",
          "height": 321
        },
        "outputId": "f963cc6f-59df-42b4-d840-81a431a08bb5"
      },
      "source": [
        "get_ipython().run_cell_magic('HTML', '', '<svg width=\"800\" height=\"300\">\\n  <circle cx=\"150\" cy=\"180\" r=\"80\" fill-opacity=\"0.2\" stroke=\"black\" stroke-width=\"2\" fill=\"blue\" />\\n  <circle cx=\"200\" cy=\"100\" r=\"80\" fill-opacity=\"0.2\" stroke=\"black\" stroke-width=\"2\" fill=\"red\" />\\n  <circle cx=\"100\" cy=\"100\" r=\"80\" fill-opacity=\"0.2\" stroke=\"black\" stroke-width=\"2\" fill=\"green\" />\\n  <line x1=\"150\" y1=\"125\" x2=\"300\" y2=\"150\" stroke=\"black\" stroke-width=\"2\" fill=\"black\" stroke-dasharray=\"5,3\"/>\\n  <text  x=\"300\" y=\"165\" font-family=\"Verdana\" font-size=\"35\">Everything but this!</text>\\n</svg>')\n"
      ],
      "execution_count": 114,
      "outputs": [
        {
          "output_type": "display_data",
          "data": {
            "text/html": [
              "<svg width=\"800\" height=\"300\">\n",
              "  <circle cx=\"150\" cy=\"180\" r=\"80\" fill-opacity=\"0.2\" stroke=\"black\" stroke-width=\"2\" fill=\"blue\" />\n",
              "  <circle cx=\"200\" cy=\"100\" r=\"80\" fill-opacity=\"0.2\" stroke=\"black\" stroke-width=\"2\" fill=\"red\" />\n",
              "  <circle cx=\"100\" cy=\"100\" r=\"80\" fill-opacity=\"0.2\" stroke=\"black\" stroke-width=\"2\" fill=\"green\" />\n",
              "  <line x1=\"150\" y1=\"125\" x2=\"300\" y2=\"150\" stroke=\"black\" stroke-width=\"2\" fill=\"black\" stroke-dasharray=\"5,3\"/>\n",
              "  <text  x=\"300\" y=\"165\" font-family=\"Verdana\" font-size=\"35\">Everything but this!</text>\n",
              "</svg>"
            ],
            "text/plain": [
              "<IPython.core.display.HTML object>"
            ]
          },
          "metadata": {
            "tags": []
          }
        }
      ]
    },
    {
      "cell_type": "code",
      "metadata": {
        "umich_part_id": "010",
        "umich_partlist_id": "003",
        "id": "ZO8uT19QffR_",
        "colab_type": "code",
        "colab": {
          "base_uri": "https://localhost:8080/",
          "height": 34
        },
        "outputId": "5f14e30b-b474-471c-f800-989b44372d14"
      },
      "source": [
        "#return \"ANSWER\"\n",
        "def answer_two():\n",
        "    # Union A, B, C - Intersection A, B, C\n",
        "    union = pd.merge(pd.merge(energy, GDP, on='Country', how='outer'), ScimEn, on='Country', how='outer')\n",
        "    intersect = pd.merge(pd.merge(energy, GDP, on='Country',how='inner'), ScimEn, on='Country')\n",
        "    return len(union)-len(intersect)\n",
        "answer_two()"
      ],
      "execution_count": 115,
      "outputs": [
        {
          "output_type": "execute_result",
          "data": {
            "text/plain": [
              "289"
            ]
          },
          "metadata": {
            "tags": []
          },
          "execution_count": 115
        }
      ]
    },
    {
      "cell_type": "markdown",
      "metadata": {
        "id": "cgUMKiXcffSB",
        "colab_type": "text"
      },
      "source": [
        "## Answer the following questions in the context of only the top 15 countries by Scimagojr Rank (aka the DataFrame returned by `answer_one()`)"
      ]
    },
    {
      "cell_type": "markdown",
      "metadata": {
        "id": "Fmi6N4QTffSB",
        "colab_type": "text"
      },
      "source": [
        "### Question 3 (6.6%)\n",
        "What is the average GDP over the last 10 years for each country? (exclude missing values from this calculation.)\n",
        "\n",
        "*This function should return a Series named `avgGDP` with 15 countries and their average GDP sorted in descending order.*"
      ]
    },
    {
      "cell_type": "code",
      "metadata": {
        "id": "5SUJ_2Fn58r0",
        "colab_type": "code",
        "colab": {
          "base_uri": "https://localhost:8080/",
          "height": 306
        },
        "outputId": "1e4a5301-7bad-4b4f-e519-f7e1eb1c3886"
      },
      "source": [
        "def avg(row):\n",
        "    data = row[['2006', '2007', '2008', '2009', '2010', '2011', '2012', '2013', '2014', '2015']]\n",
        "    return np.average(data)\n",
        "\n",
        "def answer_three():\n",
        "    Top15 = final_df\n",
        "    avgGDP = Top15.apply(avg, axis=1)\n",
        "    avgGDP.sort_values(ascending=False)\n",
        "    return avgGDP\n",
        "answer_three()"
      ],
      "execution_count": 126,
      "outputs": [
        {
          "output_type": "execute_result",
          "data": {
            "text/plain": [
              "Country\n",
              "China                 6.919386e+12\n",
              "United States         1.566858e+13\n",
              "Japan                 5.177131e+12\n",
              "United Kingdom        2.752921e+12\n",
              "India                 1.602352e+12\n",
              "Germany               3.536418e+12\n",
              "Russian Federation    1.668067e+12\n",
              "Canada                1.612373e+12\n",
              "France                2.687371e+12\n",
              "Italy                 2.131025e+12\n",
              "South Korea           1.165810e+12\n",
              "Iran                  4.393498e+11\n",
              "Brazil                1.988885e+12\n",
              "Australia             1.206508e+12\n",
              "Spain                 1.407156e+12\n",
              "dtype: float64"
            ]
          },
          "metadata": {
            "tags": []
          },
          "execution_count": 126
        }
      ]
    },
    {
      "cell_type": "markdown",
      "metadata": {
        "id": "K_bT7M80ffSF",
        "colab_type": "text"
      },
      "source": [
        "### Question 4 (6.6%)\n",
        "By how much had the GDP changed over the 10 year span for the country with the 6th largest average GDP?\n",
        "\n",
        "*This function should return a single number.*"
      ]
    },
    {
      "cell_type": "code",
      "metadata": {
        "scrolled": true,
        "umich_part_id": "012",
        "umich_partlist_id": "003",
        "id": "3k_T1MYKffSG",
        "colab_type": "code",
        "colab": {
          "base_uri": "https://localhost:8080/",
          "height": 34
        },
        "outputId": "f8ea8615-fc34-4855-ee2f-d59122f5444b"
      },
      "source": [
        "def answer_four():\n",
        "    Top15 = final_df\n",
        "    avgGDP = answer_three()\n",
        "    country = avgGDP.keys()[5]\n",
        "    ans = Top15.loc[country, '2015'] - Top15.loc[country, '2006']\n",
        "    return ans\n",
        "answer_four()"
      ],
      "execution_count": 127,
      "outputs": [
        {
          "output_type": "execute_result",
          "data": {
            "text/plain": [
              "378942970574.50977"
            ]
          },
          "metadata": {
            "tags": []
          },
          "execution_count": 127
        }
      ]
    },
    {
      "cell_type": "markdown",
      "metadata": {
        "id": "iWhv7AU-ffSI",
        "colab_type": "text"
      },
      "source": [
        "### Question 5 (6.6%)\n",
        "What is the mean `Energy Supply per Capita`?\n",
        "\n",
        "*This function should return a single number.*"
      ]
    },
    {
      "cell_type": "code",
      "metadata": {
        "umich_part_id": "013",
        "umich_partlist_id": "003",
        "id": "cPELMh1DffSI",
        "colab_type": "code",
        "colab": {
          "base_uri": "https://localhost:8080/",
          "height": 34
        },
        "outputId": "9e440c88-21da-427a-c50e-921c4a9a2c3a"
      },
      "source": [
        "def answer_five():\n",
        "    Top15 = final_df\n",
        "    avg = np.average(Top15['Energy Supply per Capita'])\n",
        "    return float(avg)\n",
        "answer_five()"
      ],
      "execution_count": 128,
      "outputs": [
        {
          "output_type": "execute_result",
          "data": {
            "text/plain": [
              "157.6"
            ]
          },
          "metadata": {
            "tags": []
          },
          "execution_count": 128
        }
      ]
    },
    {
      "cell_type": "markdown",
      "metadata": {
        "id": "7Ds3dcB2ffSK",
        "colab_type": "text"
      },
      "source": [
        "### Question 6 (6.6%)\n",
        "What country has the maximum % Renewable and what is the percentage?\n",
        "\n",
        "*This function should return a tuple with the name of the country and the percentage.*"
      ]
    },
    {
      "cell_type": "code",
      "metadata": {
        "umich_part_id": "014",
        "umich_partlist_id": "003",
        "id": "ixQyBVV0ffSM",
        "colab_type": "code",
        "colab": {
          "base_uri": "https://localhost:8080/",
          "height": 34
        },
        "outputId": "e792e572-c2cb-454e-dfca-52a370161885"
      },
      "source": [
        "def answer_six():\n",
        "    Top15 = final_df\n",
        "    m = float(np.max(Top15['% Renewable']))\n",
        "    country = Top15[Top15['% Renewable'] == m].iloc[0].name\n",
        "    ans = country, m\n",
        "    return ans\n",
        "answer_six()"
      ],
      "execution_count": 129,
      "outputs": [
        {
          "output_type": "execute_result",
          "data": {
            "text/plain": [
              "('Brazil', 69.64803)"
            ]
          },
          "metadata": {
            "tags": []
          },
          "execution_count": 129
        }
      ]
    },
    {
      "cell_type": "markdown",
      "metadata": {
        "id": "qJ0AuC_-ffSO",
        "colab_type": "text"
      },
      "source": [
        "### Question 7 (6.6%)\n",
        "Create a new column that is the ratio of Self-Citations to Total Citations. \n",
        "What is the maximum value for this new column, and what country has the highest ratio?\n",
        "\n",
        "*This function should return a tuple with the name of the country and the ratio.*"
      ]
    },
    {
      "cell_type": "code",
      "metadata": {
        "umich_part_id": "015",
        "umich_partlist_id": "003",
        "id": "-0xYCTZgffSP",
        "colab_type": "code",
        "colab": {
          "base_uri": "https://localhost:8080/",
          "height": 34
        },
        "outputId": "dc216513-696c-4603-d868-b21316206f64"
      },
      "source": [
        "def ratio(row):\n",
        "    row['ratio'] = row['Self-citations'] / row['Citations']\n",
        "    return row\n",
        "\n",
        "def answer_seven():\n",
        "    Top15 = final_df\n",
        "    new = Top15.apply(ratio, axis=1)\n",
        "    m = float(np.max(new['ratio']))\n",
        "    country = new[new['ratio'] == m].iloc[0].name\n",
        "    return country, m\n",
        "answer_seven()\n"
      ],
      "execution_count": 131,
      "outputs": [
        {
          "output_type": "execute_result",
          "data": {
            "text/plain": [
              "('China', 0.684206255293156)"
            ]
          },
          "metadata": {
            "tags": []
          },
          "execution_count": 131
        }
      ]
    },
    {
      "cell_type": "markdown",
      "metadata": {
        "id": "Ij2W3wFoffSQ",
        "colab_type": "text"
      },
      "source": [
        "### Question 8 (6.6%)\n",
        "\n",
        "Create a column that estimates the population using Energy Supply and Energy Supply per capita. \n",
        "What is the third most populous country according to this estimate?\n",
        "\n",
        "*This function should return a single string value.*"
      ]
    },
    {
      "cell_type": "code",
      "metadata": {
        "umich_part_id": "016",
        "umich_partlist_id": "003",
        "id": "sn_Sh-HkffSR",
        "colab_type": "code",
        "colab": {
          "base_uri": "https://localhost:8080/",
          "height": 34
        },
        "outputId": "d4fcc0bb-ece8-4249-a27c-f423e52c9832"
      },
      "source": [
        "def answer_eight():\n",
        "    Top15 = final_df\n",
        "    new = Top15.apply(lambda x: x['Energy Supply'] / x['Energy Supply per Capita'], axis=1)\n",
        "    new.sort_values(ascending=False)\n",
        "    country = new.keys()[2]\n",
        "    return country\n",
        "answer_eight()"
      ],
      "execution_count": 134,
      "outputs": [
        {
          "output_type": "execute_result",
          "data": {
            "text/plain": [
              "'Japan'"
            ]
          },
          "metadata": {
            "tags": []
          },
          "execution_count": 134
        }
      ]
    },
    {
      "cell_type": "markdown",
      "metadata": {
        "id": "poy_LDdQffST",
        "colab_type": "text"
      },
      "source": [
        "### Question 9 (6.6%)\n",
        "Create a column that estimates the number of citable documents per person. \n",
        "What is the correlation between the number of citable documents per capita and the energy supply per capita? Use the `.corr()` method, (Pearson's correlation).\n",
        "\n",
        "*This function should return a single number.*\n",
        "\n",
        "*(Optional: Use the built-in function `plot9()` to visualize the relationship between Energy Supply per Capita vs. Citable docs per Capita)*"
      ]
    },
    {
      "cell_type": "code",
      "metadata": {
        "umich_part_id": "017",
        "umich_partlist_id": "003",
        "id": "5G5vkRHbffST",
        "colab_type": "code",
        "colab": {
          "base_uri": "https://localhost:8080/",
          "height": 34
        },
        "outputId": "04307c48-8608-4f71-d557-267aa59454fe"
      },
      "source": [
        "def answer_nine():\n",
        "    Top15 = final_df.copy()\n",
        "    Top15['PopEst'] = Top15['Energy Supply'] / Top15['Energy Supply per Capita']\n",
        "    Top15['Citable docs per Capita'] = Top15['Citable documents'] / Top15['PopEst']\n",
        "    Top15 = Top15.corr(method='pearson')\n",
        "    ans = Top15.loc['Energy Supply per Capita', 'Citable docs per Capita']\n",
        "    return ans\n",
        "answer_nine()"
      ],
      "execution_count": 135,
      "outputs": [
        {
          "output_type": "execute_result",
          "data": {
            "text/plain": [
              "0.7676145948586385"
            ]
          },
          "metadata": {
            "tags": []
          },
          "execution_count": 135
        }
      ]
    },
    {
      "cell_type": "code",
      "metadata": {
        "id": "heBfmjUyffSV",
        "colab_type": "code",
        "colab": {}
      },
      "source": [
        "#def plot9():\n",
        "    import matplotlib as plt\n",
        "    %matplotlib inline\n",
        "    \n",
        "    Top15 = answer_one()\n",
        "    Top15['PopEst'] = Top15['Energy Supply'] / Top15['Energy Supply per Capita']\n",
        "    Top15['Citable docs per Capita'] = Top15['Citable documents'] / Top15['PopEst']\n",
        "    Top15.plot(x='Citable docs per Capita', y='Energy Supply per Capita', kind='scatter', xlim=[0, 0.0006])\n",
        "    "
      ],
      "execution_count": 0,
      "outputs": []
    },
    {
      "cell_type": "code",
      "metadata": {
        "id": "OIqiaGHpffSX",
        "colab_type": "code",
        "colab": {}
      },
      "source": [
        "#plot9() # Be sure to comment out plot9() before submitting the assignment!"
      ],
      "execution_count": 0,
      "outputs": []
    },
    {
      "cell_type": "markdown",
      "metadata": {
        "id": "Ewsai7IwffSZ",
        "colab_type": "text"
      },
      "source": [
        "### Question 10 (6.6%)\n",
        "Create a new column with a 1 if the country's % Renewable value is at or above the median for all countries in the top 15, and a 0 if the country's % Renewable value is below the median.\n",
        "\n",
        "*This function should return a series named `HighRenew` whose index is the country name sorted in ascending order of rank.*"
      ]
    },
    {
      "cell_type": "code",
      "metadata": {
        "umich_part_id": "018",
        "umich_partlist_id": "003",
        "id": "PolcZ8aaffSa",
        "colab_type": "code",
        "colab": {
          "base_uri": "https://localhost:8080/",
          "height": 394
        },
        "outputId": "488ef3ae-abbf-40c4-be3f-2ad9883528ee"
      },
      "source": [
        "def answer_ten():\n",
        "    Top15 = final_df\n",
        "    median = np.median(Top15['% Renewable'])\n",
        "    for i in range(len(Top15)):\n",
        "        if Top15.iloc[i]['% Renewable'] >= median:\n",
        "            Top15.set_value(Top15.iloc[i].name, 'HighRenew', 1)\n",
        "        else:\n",
        "            Top15.set_value(Top15.iloc[i].name, 'HighRenew', 0)\n",
        "    Top15 = Top15['HighRenew']\n",
        "    Top15 = Top15.sort_values(inplace=False)\n",
        "    return Top15\n",
        "answer_ten()"
      ],
      "execution_count": 140,
      "outputs": [
        {
          "output_type": "stream",
          "text": [
            "/usr/local/lib/python3.6/dist-packages/ipykernel_launcher.py:6: FutureWarning: set_value is deprecated and will be removed in a future release. Please use .at[] or .iat[] accessors instead\n",
            "  \n",
            "/usr/local/lib/python3.6/dist-packages/ipykernel_launcher.py:8: FutureWarning: set_value is deprecated and will be removed in a future release. Please use .at[] or .iat[] accessors instead\n",
            "  \n"
          ],
          "name": "stderr"
        },
        {
          "output_type": "execute_result",
          "data": {
            "text/plain": [
              "Country\n",
              "United States         0.0\n",
              "Japan                 0.0\n",
              "United Kingdom        0.0\n",
              "India                 0.0\n",
              "South Korea           0.0\n",
              "Iran                  0.0\n",
              "Australia             0.0\n",
              "China                 1.0\n",
              "Germany               1.0\n",
              "Russian Federation    1.0\n",
              "Canada                1.0\n",
              "France                1.0\n",
              "Italy                 1.0\n",
              "Brazil                1.0\n",
              "Spain                 1.0\n",
              "Name: HighRenew, dtype: float64"
            ]
          },
          "metadata": {
            "tags": []
          },
          "execution_count": 140
        }
      ]
    },
    {
      "cell_type": "markdown",
      "metadata": {
        "id": "VXfzhEb4ffSc",
        "colab_type": "text"
      },
      "source": [
        "### Question 11 (6.6%)\n",
        "Use the following dictionary to group the Countries by Continent, then create a dateframe that displays the sample size (the number of countries in each continent bin), and the sum, mean, and std deviation for the estimated population of each country.\n",
        "\n",
        "```python\n",
        "ContinentDict  = {'China':'Asia', \n",
        "                  'United States':'North America', \n",
        "                  'Japan':'Asia', \n",
        "                  'United Kingdom':'Europe', \n",
        "                  'Russian Federation':'Europe', \n",
        "                  'Canada':'North America', \n",
        "                  'Germany':'Europe', \n",
        "                  'India':'Asia',\n",
        "                  'France':'Europe', \n",
        "                  'South Korea':'Asia', \n",
        "                  'Italy':'Europe', \n",
        "                  'Spain':'Europe', \n",
        "                  'Iran':'Asia',\n",
        "                  'Australia':'Australia', \n",
        "                  'Brazil':'South America'}\n",
        "```\n",
        "\n",
        "*This function should return a DataFrame with index named Continent `['Asia', 'Australia', 'Europe', 'North America', 'South America']` and columns `['size', 'sum', 'mean', 'std']`*"
      ]
    },
    {
      "cell_type": "code",
      "metadata": {
        "umich_part_id": "019",
        "umich_partlist_id": "003",
        "id": "indCGfPkffSd",
        "colab_type": "code",
        "colab": {
          "base_uri": "https://localhost:8080/",
          "height": 306
        },
        "outputId": "ebb6df21-4398-492c-88d7-0ef7089735c1"
      },
      "source": [
        "ContinentDict  = {'China':'Asia', \n",
        "                  'United States':'North America', \n",
        "                  'Japan':'Asia', \n",
        "                  'United Kingdom':'Europe', \n",
        "                  'Russian Federation':'Europe', \n",
        "                  'Canada':'North America', \n",
        "                  'Germany':'Europe', \n",
        "                  'India':'Asia',\n",
        "                  'France':'Europe', \n",
        "                  'South Korea':'Asia', \n",
        "                  'Italy':'Europe', \n",
        "                  'Spain':'Europe', \n",
        "                  'Iran':'Asia',\n",
        "                  'Australia':'Australia', \n",
        "                  'Brazil':'South America'}\n",
        "def answer_eleven():\n",
        "    Top15 = final_df\n",
        "    Top15['PopEst'] = Top15['Energy Supply'] / Top15['Energy Supply per Capita']\n",
        "    for i in range(len(Top15)):\n",
        "        country = Top15.iloc[i].name\n",
        "        Top15.set_value(country, 'Continent', ContinentDict[country])\n",
        "    Top15 = (Top15.reset_index(level=0)\n",
        "                 .set_index(['Continent', 'Country']))\n",
        "    Top15 = Top15.groupby(level=0)['PopEst'].agg({'size': np.size, 'sum': np.sum, 'mean': np.average, 'std': np.std})\n",
        "    return Top15\n",
        "answer_eleven()"
      ],
      "execution_count": 142,
      "outputs": [
        {
          "output_type": "stream",
          "text": [
            "/usr/local/lib/python3.6/dist-packages/ipykernel_launcher.py:21: FutureWarning: set_value is deprecated and will be removed in a future release. Please use .at[] or .iat[] accessors instead\n",
            "/usr/local/lib/python3.6/dist-packages/ipykernel_launcher.py:24: FutureWarning: using a dict on a Series for aggregation\n",
            "is deprecated and will be removed in a future version\n"
          ],
          "name": "stderr"
        },
        {
          "output_type": "execute_result",
          "data": {
            "text/html": [
              "<div>\n",
              "<style scoped>\n",
              "    .dataframe tbody tr th:only-of-type {\n",
              "        vertical-align: middle;\n",
              "    }\n",
              "\n",
              "    .dataframe tbody tr th {\n",
              "        vertical-align: top;\n",
              "    }\n",
              "\n",
              "    .dataframe thead th {\n",
              "        text-align: right;\n",
              "    }\n",
              "</style>\n",
              "<table border=\"1\" class=\"dataframe\">\n",
              "  <thead>\n",
              "    <tr style=\"text-align: right;\">\n",
              "      <th></th>\n",
              "      <th>size</th>\n",
              "      <th>sum</th>\n",
              "      <th>mean</th>\n",
              "      <th>std</th>\n",
              "    </tr>\n",
              "    <tr>\n",
              "      <th>Continent</th>\n",
              "      <th></th>\n",
              "      <th></th>\n",
              "      <th></th>\n",
              "      <th></th>\n",
              "    </tr>\n",
              "  </thead>\n",
              "  <tbody>\n",
              "    <tr>\n",
              "      <th>Asia</th>\n",
              "      <td>5.0</td>\n",
              "      <td>2.898666e+09</td>\n",
              "      <td>5.797333e+08</td>\n",
              "      <td>6.790979e+08</td>\n",
              "    </tr>\n",
              "    <tr>\n",
              "      <th>Australia</th>\n",
              "      <td>1.0</td>\n",
              "      <td>2.331602e+07</td>\n",
              "      <td>2.331602e+07</td>\n",
              "      <td>NaN</td>\n",
              "    </tr>\n",
              "    <tr>\n",
              "      <th>Europe</th>\n",
              "      <td>6.0</td>\n",
              "      <td>4.579297e+08</td>\n",
              "      <td>7.632161e+07</td>\n",
              "      <td>3.464767e+07</td>\n",
              "    </tr>\n",
              "    <tr>\n",
              "      <th>North America</th>\n",
              "      <td>2.0</td>\n",
              "      <td>3.528552e+08</td>\n",
              "      <td>1.764276e+08</td>\n",
              "      <td>1.996696e+08</td>\n",
              "    </tr>\n",
              "    <tr>\n",
              "      <th>South America</th>\n",
              "      <td>1.0</td>\n",
              "      <td>2.059153e+08</td>\n",
              "      <td>2.059153e+08</td>\n",
              "      <td>NaN</td>\n",
              "    </tr>\n",
              "  </tbody>\n",
              "</table>\n",
              "</div>"
            ],
            "text/plain": [
              "               size           sum          mean           std\n",
              "Continent                                                    \n",
              "Asia            5.0  2.898666e+09  5.797333e+08  6.790979e+08\n",
              "Australia       1.0  2.331602e+07  2.331602e+07           NaN\n",
              "Europe          6.0  4.579297e+08  7.632161e+07  3.464767e+07\n",
              "North America   2.0  3.528552e+08  1.764276e+08  1.996696e+08\n",
              "South America   1.0  2.059153e+08  2.059153e+08           NaN"
            ]
          },
          "metadata": {
            "tags": []
          },
          "execution_count": 142
        }
      ]
    },
    {
      "cell_type": "markdown",
      "metadata": {
        "id": "cEdNkzHYffSh",
        "colab_type": "text"
      },
      "source": [
        "### Question 12 (6.6%)\n",
        "Cut % Renewable into 5 bins. Group Top15 by the Continent, as well as these new % Renewable bins. How many countries are in each of these groups?\n",
        "\n",
        "*This function should return a __Series__ with a MultiIndex of `Continent`, then the bins for `% Renewable`. Do not include groups with no countries.*"
      ]
    },
    {
      "cell_type": "code",
      "metadata": {
        "scrolled": true,
        "id": "nSPyXK-yffSi",
        "colab_type": "code",
        "colab": {
          "base_uri": "https://localhost:8080/",
          "height": 258
        },
        "outputId": "8edb1f7d-569f-4acc-d29c-c65602016f03"
      },
      "source": [
        "def answer_twelve():\n",
        "    Top15 = final_df\n",
        "    for i in range(len(Top15)):\n",
        "        country = Top15.iloc[i].name\n",
        "        Top15.set_value(country, 'Continent', ContinentDict[country])\n",
        "    Top15 = (Top15.reset_index(level=0)\n",
        "                 .set_index(['Continent', 'Country']))\n",
        "    Top15 = pd.cut(Top15['% Renewable'], 5)\n",
        "    Top15 = (Top15.reset_index()\n",
        "                .set_index(['Continent', '% Renewable']))\n",
        "    Top15 = Top15.groupby(level=['Continent', '% Renewable']).size()\n",
        "    return Top15\n",
        "answer_twelve()"
      ],
      "execution_count": 143,
      "outputs": [
        {
          "output_type": "stream",
          "text": [
            "/usr/local/lib/python3.6/dist-packages/ipykernel_launcher.py:5: FutureWarning: set_value is deprecated and will be removed in a future release. Please use .at[] or .iat[] accessors instead\n",
            "  \"\"\"\n"
          ],
          "name": "stderr"
        },
        {
          "output_type": "execute_result",
          "data": {
            "text/plain": [
              "Continent      % Renewable     \n",
              "Asia           (2.212, 15.753]     4\n",
              "               (15.753, 29.227]    1\n",
              "Australia      (2.212, 15.753]     1\n",
              "Europe         (2.212, 15.753]     1\n",
              "               (15.753, 29.227]    3\n",
              "               (29.227, 42.701]    2\n",
              "North America  (2.212, 15.753]     1\n",
              "               (56.174, 69.648]    1\n",
              "South America  (56.174, 69.648]    1\n",
              "dtype: int64"
            ]
          },
          "metadata": {
            "tags": []
          },
          "execution_count": 143
        }
      ]
    },
    {
      "cell_type": "markdown",
      "metadata": {
        "id": "NYJnQUm7ffSl",
        "colab_type": "text"
      },
      "source": [
        "### Question 13 (6.6%)\n",
        "Convert the Population Estimate series to a string with thousands separator (using commas). Do not round the results.\n",
        "\n",
        "e.g. 317615384.61538464 -> 317,615,384.61538464\n",
        "\n",
        "*This function should return a Series `PopEst` whose index is the country name and whose values are the population estimate string.*"
      ]
    },
    {
      "cell_type": "code",
      "metadata": {
        "scrolled": true,
        "umich_part_id": "020",
        "umich_partlist_id": "003",
        "id": "klMaUAkiffSm",
        "colab_type": "code",
        "colab": {
          "base_uri": "https://localhost:8080/",
          "height": 306
        },
        "outputId": "8890ace0-e5d5-4739-c401-676e6d2cca5f"
      },
      "source": [
        "def answer_thirteen():\n",
        "    Top15 = final_df\n",
        "    Top15['PopEst'] = Top15['Energy Supply'] / Top15['Energy Supply per Capita']\n",
        "    Top15 = Top15['PopEst']\n",
        "    for i in range(len(Top15)):\n",
        "        country = Top15.keys()[i]\n",
        "        number = \"{:,}\".format((Top15.iloc[i]))\n",
        "        Top15.replace(Top15.iloc[i], number, inplace=True)\n",
        "    return Top15\n",
        "answer_thirteen()\n"
      ],
      "execution_count": 144,
      "outputs": [
        {
          "output_type": "execute_result",
          "data": {
            "text/plain": [
              "Country\n",
              "China                 1,367,645,161.2903225\n",
              "United States          317,615,384.61538464\n",
              "Japan                  127,409,395.97315437\n",
              "United Kingdom         63,870,967.741935484\n",
              "India                 1,276,730,769.2307692\n",
              "Germany                 80,369,696.96969697\n",
              "Russian Federation            143,500,000.0\n",
              "Canada                  35,239,864.86486486\n",
              "France                  63,837,349.39759036\n",
              "Italy                  59,908,256.880733944\n",
              "South Korea            49,805,429.864253394\n",
              "Iran                    77,075,630.25210084\n",
              "Brazil                 205,915,254.23728815\n",
              "Australia              23,316,017.316017315\n",
              "Spain                    46,443,396.2264151\n",
              "Name: PopEst, dtype: object"
            ]
          },
          "metadata": {
            "tags": []
          },
          "execution_count": 144
        }
      ]
    },
    {
      "cell_type": "markdown",
      "metadata": {
        "id": "xa1wwzvRffSn",
        "colab_type": "text"
      },
      "source": [
        "### Optional\n",
        "\n",
        "Use the built in function `plot_optional()` to see an example visualization."
      ]
    },
    {
      "cell_type": "code",
      "metadata": {
        "scrolled": true,
        "id": "Rx9tOlwEffSo",
        "colab_type": "code",
        "colab": {}
      },
      "source": [
        "#def plot_optional():\n",
        "    import matplotlib as plt\n",
        "    %matplotlib inline\n",
        "    Top15 = answer_one()\n",
        "    ax = Top15.plot(x='Rank', y='% Renewable', kind='scatter', \n",
        "                    c=['#e41a1c','#377eb8','#e41a1c','#4daf4a','#4daf4a','#377eb8','#4daf4a','#e41a1c',\n",
        "                       '#4daf4a','#e41a1c','#4daf4a','#4daf4a','#e41a1c','#dede00','#ff7f00'], \n",
        "                    xticks=range(1,16), s=6*Top15['2014']/10**10, alpha=.75, figsize=[16,6]);\n",
        "\n",
        "    for i, txt in enumerate(Top15.index):\n",
        "        ax.annotate(txt, [Top15['Rank'][i], Top15['% Renewable'][i]], ha='center')\n",
        "\n",
        "    print(\"This is an example of a visualization that can be created to help understand the data. \\\n",
        "This is a bubble chart showing % Renewable vs. Rank. The size of the bubble corresponds to the countries' \\\n",
        "2014 GDP, and the color corresponds to the continent.\")"
      ],
      "execution_count": 0,
      "outputs": []
    },
    {
      "cell_type": "code",
      "metadata": {
        "id": "9wqddOn5ffSq",
        "colab_type": "code",
        "colab": {}
      },
      "source": [
        "#plot_optional() # Be sure to comment out plot_optional() before submitting the assignment!"
      ],
      "execution_count": 0,
      "outputs": []
    }
  ]
}